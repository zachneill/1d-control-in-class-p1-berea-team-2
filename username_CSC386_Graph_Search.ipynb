{
  "nbformat": 4,
  "nbformat_minor": 0,
  "metadata": {
    "colab": {
      "name": "username - CSC386 Graph-Search.ipynb",
      "provenance": [],
      "collapsed_sections": [],
      "include_colab_link": true
    },
    "kernelspec": {
      "name": "python3",
      "display_name": "Python 3"
    },
    "language_info": {
      "name": "python"
    }
  },
  "cells": [
    {
      "cell_type": "markdown",
      "metadata": {
        "id": "view-in-github",
        "colab_type": "text"
      },
      "source": [
        "<a href=\"https://colab.research.google.com/github/zachneill/1d-control-in-class-p1-berea-team-2/blob/master/username_CSC386_Graph_Search.ipynb\" target=\"_parent\"><img src=\"https://colab.research.google.com/assets/colab-badge.svg\" alt=\"Open In Colab\"/></a>"
      ]
    },
    {
      "cell_type": "markdown",
      "metadata": {
        "id": "4T579WJkFsck"
      },
      "source": [
        "# T00: Graph Search\n",
        "* This Colab is a companion document to T00: Graph Search.\n",
        "* You should seek help understanding this assignment from the TAs at the evening lab."
      ]
    },
    {
      "cell_type": "markdown",
      "metadata": {
        "id": "0zDwgGWSFxgQ"
      },
      "source": [
        "### Learning Objectives \n",
        "* Practice breaking a larger problem down into smaller pieces using functions.\n",
        "* Gain practice manipulating arrays.\n",
        "* Establish an understanding of graph search algorithms and their applications."
      ]
    },
    {
      "cell_type": "markdown",
      "metadata": {
        "id": "v0A1beWyGEeX"
      },
      "source": [
        "### How to Start\n",
        "* To begin, save a copy in Drive and share it with all members of your team. **Colab does not let you make changes until you save a copy.**\n",
        "* Change the file name of this document to username1, username2 - T00: Graph Search (for example, neillz, martinj2 - A00: Graph Search). \n",
        "* You will not be submitting this document, but you must save it to make changes and folow the interactive segments of T00."
      ]
    },
    {
      "cell_type": "markdown",
      "metadata": {
        "id": "VrPSs9KWgSEV"
      },
      "source": [
        "### Additional Notes\n",
        "This assignment utilizes Google Colab. If you are unfamiliar with Colab, don’t worry. The idea is that you can write both code and read text. \n",
        "- **Real-time saving was deprecated in 2018. Your partner must refresh the page to see your changes.** This is a good time to practice pair programming and the driver/navigator dynamic. \n",
        "-If you are experiencing not defined or not found errors, run the previous code blocks to see if you need to redefine any dependencies. \n",
        "\n",
        "- There is no git workflow associated with this project."
      ]
    },
    {
      "cell_type": "markdown",
      "metadata": {
        "id": "KBSajq-gKROF"
      },
      "source": [
        "# Graph Search"
      ]
    },
    {
      "cell_type": "markdown",
      "metadata": {
        "id": "i3MvR8ftbLRk"
      },
      "source": [
        "*Objective: Our task is to determine the quickest route from Ann Arbor to Marquette.*"
      ]
    },
    {
      "cell_type": "markdown",
      "metadata": {
        "id": "DAM3UqtnJ6eo"
      },
      "source": [
        "The following code downloads and stores our data in a data folder to be used in our searches. It is a text file with the nodes that form the edges and their weights. The file is printed below. "
      ]
    },
    {
      "cell_type": "code",
      "metadata": {
        "id": "GIKK-u4uoTjs"
      },
      "source": [
        "import os, shutil\n",
        "if os.path.exists(\"/content/data\"): shutil.rmtree(\"/content/data\") # avoid accidentally re-downloading the file\n",
        "os.mkdir(\"/content/data\")\n",
        "!wget -P /content/data https://raw.githubusercontent.com/martinj2-dot/CSC386-Graph-Search/main/data.txt # Read the downloaded data\n",
        "with open(\"/content/data/data.txt\") as file: print(\"\\n-----\\nThe file looks like:\\n-----\\n\"+file.read()+\"-----\")"
      ],
      "execution_count": null,
      "outputs": []
    },
    {
      "cell_type": "markdown",
      "metadata": {
        "id": "eZmb1Y-aNi65"
      },
      "source": [
        "The following code creates the nodes and edges plus their weights. They are stored in nx.nodes(g) and nx.edges(g). We are using the powerful networkx module, which can print out visualizations for us. "
      ]
    },
    {
      "cell_type": "code",
      "metadata": {
        "id": "iTa6eZtrMs2T"
      },
      "source": [
        "import networkx as nx\n",
        "\n",
        "g = nx.Graph()\n",
        "with open(\"/content/data/data.txt\") as file:\n",
        "  lines = file.readlines()\n",
        "  for line in lines:\n",
        "    edges = line.split()\n",
        "    g.add_edge(edges[0], edges[1], weight=edges[2])\n",
        "\n",
        "nx.draw_networkx(g)"
      ],
      "execution_count": null,
      "outputs": []
    },
    {
      "cell_type": "markdown",
      "metadata": {
        "id": "ijV_n8DjtUSb"
      },
      "source": [
        "Networkx populates nx.nodes(g) and nx.edges(g) for us behind the scenes: "
      ]
    },
    {
      "cell_type": "code",
      "metadata": {
        "id": "tgCxiLrdtT_x"
      },
      "source": [
        "print(f\"\\nNodes: {nx.nodes(g)}\")\n",
        "print(f\"Edges: {nx.edges(g)} + \\n\\n\")"
      ],
      "execution_count": null,
      "outputs": []
    },
    {
      "cell_type": "markdown",
      "metadata": {
        "id": "L01tsSs2cFfE"
      },
      "source": [
        "Below is the chronological order of how we would traverse the edges using Breadth First Search."
      ]
    },
    {
      "cell_type": "code",
      "metadata": {
        "id": "HI-3xjiGcjj1"
      },
      "source": [
        "for i in nx.bfs_edges(g, \"ann_arbor\", \"marquette\"): print(f\"{i[0]} --> {i[1]}\")"
      ],
      "execution_count": null,
      "outputs": []
    },
    {
      "cell_type": "markdown",
      "metadata": {
        "id": "yC6M7jHQZqbb"
      },
      "source": [
        "Dijkstra's Algorithm is an improved version of BFS for finding the quickest path. It uses the same concept as BFS except instead of a normal queue, it uses a priority queue. We can use either BFS or Dijkstra's to find the quickest path from Ann Arbor to Marquette. This is because BFS and Dijkstra's will both arrive at the same solution. "
      ]
    },
    {
      "cell_type": "code",
      "metadata": {
        "id": "HLjh2RavF-tr"
      },
      "source": [
        "nx.dijkstra_path(g, \"ann_arbor\", \"marquette\", \"\")"
      ],
      "execution_count": null,
      "outputs": []
    },
    {
      "cell_type": "markdown",
      "metadata": {
        "id": "ZuLkdm1BgJUa"
      },
      "source": [
        "And there we go! We have the shortest path from Ann Arbor to Marquette."
      ]
    }
  ]
}